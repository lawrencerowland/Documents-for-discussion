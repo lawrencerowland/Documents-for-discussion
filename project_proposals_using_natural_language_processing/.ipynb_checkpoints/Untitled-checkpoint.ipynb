{
 "cells": [
  {
   "cell_type": "code",
   "execution_count": null,
   "metadata": {},
   "outputs": [],
   "source": [
    "from transformers import pipeline\n",
    "from transformers import set_seed"
   ]
  },
  {
   "cell_type": "code",
   "execution_count": null,
   "metadata": {},
   "outputs": [],
   "source": [
    "generator = pipeline('text-generation', model='gpt2')"
   ]
  },
  {
   "cell_type": "code",
   "execution_count": null,
   "metadata": {},
   "outputs": [],
   "source": [
    "set_seed(43)"
   ]
  },
  {
   "cell_type": "code",
   "execution_count": null,
   "metadata": {},
   "outputs": [],
   "source": [
    "# take fir\n",
    "context=\"Organisations need timely, accurate and consistent information to facilitate effective governance and management. With different processes, technologies and management information regimes in different parts of the organisation, this can be difficult.Individual areas within the organisation do their best to govern and manage locally, but the overall picture is often neither consistent nor integrated. A single version of the truth does not exist and can seem almost impossible to achieve. If important oversight information is not available to key people, decision making may be delayed or inadequate. This impacts the path from strategy to delivery through the spine of the organisation and adversely affects the achievement of strategic objectives.Some organisations try to solve this problem with more process and support functions, more sophisticated tools and even artificial intelligence, but this usually exacerbates the problem. People find it easy to blame lack of effective information on IT tools and overbearing processes. It is harder to put the blame onto lack of investment in the governance ecosystem, or the predominance of inappropriate culture. The answer lies in considering what is really needed to integrate governance throughout the organisation and how an effective model can be built from what already exists.In recent years, projects and programmes have become the primary vehicle for changing the organisation through ‘transformation’.The distinction between ‘run the organisation' and 'change the organisation’ (and variations of it) has become common.Business Integrated Governance for Projects, Programmes and Portfolios (BIG) is a model that explains how to connect from strategic drivers to the operational parts of the organisation and those that focus on implementing change. It explains the importance of regular reviews and a logical approach to managing the underlying data that supports decision-making processes.\""
   ]
  },
  {
   "cell_type": "code",
   "execution_count": null,
   "metadata": {},
   "outputs": [],
   "source": [
    "results=generator(context1+priming, max_length=2000, num_return_sequences=1)"
   ]
  },
  {
   "cell_type": "code",
   "execution_count": null,
   "metadata": {},
   "outputs": [],
   "source": [
    "results[0]"
   ]
  },
  {
   "cell_type": "code",
   "execution_count": null,
   "metadata": {},
   "outputs": [],
   "source": [
    "priming='The model also offers  '"
   ]
  }
 ],
 "metadata": {
  "kernelspec": {
   "display_name": "Python 3",
   "language": "python",
   "name": "python3"
  },
  "language_info": {
   "codemirror_mode": {
    "name": "ipython",
    "version": 3
   },
   "file_extension": ".py",
   "mimetype": "text/x-python",
   "name": "python",
   "nbconvert_exporter": "python",
   "pygments_lexer": "ipython3",
   "version": "3.8.1"
  }
 },
 "nbformat": 4,
 "nbformat_minor": 4
}
