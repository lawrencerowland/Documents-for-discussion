{
 "cells": [
  {
   "cell_type": "code",
   "execution_count": 1,
   "metadata": {},
   "outputs": [],
   "source": [
    "from transformers import pipeline"
   ]
  },
  {
   "cell_type": "code",
   "execution_count": 22,
   "metadata": {},
   "outputs": [],
   "source": [
    "context1=\"Organisations need timely, accurate and consistent information to facilitate effective governance and management. With different processes, technologies and management information regimes in different parts of the organisation, this can be difficult.Individual areas within the organisation do their best to govern and manage locally, but the overall picture is often neither consistent nor integrated. A single version of the truth does not exist and can seem almost impossible to achieve. If important oversight information is not available to key people, decision making may be delayed or inadequate. This impacts the path from strategy to delivery through the spine of the organisation and adversely affects the achievement of strategic objectives.Some organisations try to solve this problem with more process and support functions, more sophisticated tools and even artificial intelligence, but this usually exacerbates the problem. People find it easy to blame lack of effective information on IT tools and overbearing processes. It is harder to put the blame onto lack of investment in the governance ecosystem, or the predominance of inappropriate culture. The answer lies in considering what is really needed to integrate governance throughout the organisation and how an effective model can be built from what already exists.In recent years, projects and programmes have become the primary vehicle for changing the organisation through ‘transformation’.\""
   ]
  },
  {
   "cell_type": "code",
   "execution_count": 26,
   "metadata": {},
   "outputs": [
    {
     "data": {
      "text/plain": [
       "'Organisations need timely, accurate and consistent information to facilitate effective governance and management. With different processes, technologies and management information regimes in different parts of the organisation, this can be difficult.Individual areas within the organisation do their best to govern and manage locally, but the overall picture is often neither consistent nor integrated. A single version of the truth does not exist and can seem almost impossible to achieve. If important oversight information is not available to key people, decision making may be delayed or inadequate. This impacts the path from strategy to delivery through the spine of the organisation and adversely affects the achievement of strategic objectives.Some organisations try to solve this problem with more process and support functions, more sophisticated tools and even artificial intelligence, but this usually exacerbates the problem. People find it easy to blame lack of effective information on IT tools and overbearing processes. It is harder to put the blame onto lack of investment in the governance ecosystem, or the predominance of inappropriate culture. The answer lies in considering what is really needed to integrate governance throughout the organisation and how an effective model can be built from what already exists.In recent years, projects and programmes have become the primary vehicle for changing the organisation through ‘transformation’.'"
      ]
     },
     "execution_count": 26,
     "metadata": {},
     "output_type": "execute_result"
    }
   ],
   "source": [
    "context1"
   ]
  },
  {
   "cell_type": "code",
   "execution_count": 13,
   "metadata": {},
   "outputs": [],
   "source": [
    "Question_pipeline=pipeline('question-answering', model='distilbert-base-cased-distilled-squad')"
   ]
  },
  {
   "cell_type": "code",
   "execution_count": 14,
   "metadata": {},
   "outputs": [
    {
     "data": {
      "text/plain": [
       "{'score': 0.9052055478096008,\n",
       " 'start': 1353,\n",
       " 'end': 1376,\n",
       " 'answer': 'projects and programmes'}"
      ]
     },
     "execution_count": 14,
     "metadata": {},
     "output_type": "execute_result"
    }
   ],
   "source": [
    "Question_pipeline({\n",
    "    'question':'What have become have become the primary vehicle for changing the organisation?',\n",
    "    'context': context\n",
    "})"
   ]
  },
  {
   "cell_type": "code",
   "execution_count": 15,
   "metadata": {},
   "outputs": [
    {
     "data": {
      "text/plain": [
       "{'score': 0.46094977855682373,\n",
       " 'start': 403,\n",
       " 'end': 447,\n",
       " 'answer': 'A single version of the truth does not exist'}"
      ]
     },
     "execution_count": 15,
     "metadata": {},
     "output_type": "execute_result"
    }
   ],
   "source": [
    "Question_pipeline({\n",
    "    'question':'Is there a single source for truth?',\n",
    "    'context': context\n",
    "})"
   ]
  },
  {
   "cell_type": "code",
   "execution_count": 16,
   "metadata": {},
   "outputs": [
    {
     "data": {
      "text/plain": [
       "{'score': 0.23231467604637146,\n",
       " 'start': 1072,\n",
       " 'end': 1119,\n",
       " 'answer': 'lack of investment in the governance ecosystem,'}"
      ]
     },
     "execution_count": 16,
     "metadata": {},
     "output_type": "execute_result"
    }
   ],
   "source": [
    "Question_pipeline({\n",
    "    'question':'What do people blame for the lack of effective information?',\n",
    "    'context': context\n",
    "})"
   ]
  },
  {
   "cell_type": "code",
   "execution_count": 25,
   "metadata": {},
   "outputs": [
    {
     "data": {
      "text/plain": [
       "{'score': 0.24987249076366425,\n",
       " 'start': 1353,\n",
       " 'end': 1467,\n",
       " 'answer': 'projects and programmes have become the primary vehicle for changing the organisation through ‘transformation’.The'}"
      ]
     },
     "execution_count": 25,
     "metadata": {},
     "output_type": "execute_result"
    }
   ],
   "source": [
    "Question_pipeline({\n",
    "    'question':'What has happened in recent years?',\n",
    "    'context': context\n",
    "})"
   ]
  }
 ],
 "metadata": {
  "kernelspec": {
   "display_name": "Python 3",
   "language": "python",
   "name": "python3"
  },
  "language_info": {
   "codemirror_mode": {
    "name": "ipython",
    "version": 3
   },
   "file_extension": ".py",
   "mimetype": "text/x-python",
   "name": "python",
   "nbconvert_exporter": "python",
   "pygments_lexer": "ipython3",
   "version": "3.8.1"
  }
 },
 "nbformat": 4,
 "nbformat_minor": 4
}
